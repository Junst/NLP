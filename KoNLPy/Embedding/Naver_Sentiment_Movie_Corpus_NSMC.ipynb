{
  "nbformat": 4,
  "nbformat_minor": 0,
  "metadata": {
    "colab": {
      "provenance": [],
      "collapsed_sections": []
    },
    "kernelspec": {
      "name": "python3",
      "display_name": "Python 3"
    },
    "language_info": {
      "name": "python"
    }
  },
  "cells": [
    {
      "cell_type": "markdown",
      "source": [
        "# Nave Sentiment Movie Corpus (NSMC) 네이버 영화 리뷰 분석기"
      ],
      "metadata": {
        "id": "vN55SlQz454-"
      }
    },
    {
      "cell_type": "code",
      "execution_count": 1,
      "metadata": {
        "colab": {
          "base_uri": "https://localhost:8080/"
        },
        "id": "6TUYZ6QU1WWc",
        "outputId": "48542905-ee4a-4d85-8be5-a71d55c75e65"
      },
      "outputs": [
        {
          "output_type": "stream",
          "name": "stdout",
          "text": [
            "Looking in indexes: https://pypi.org/simple, https://us-python.pkg.dev/colab-wheels/public/simple/\n",
            "Collecting konlpy\n",
            "  Downloading konlpy-0.6.0-py2.py3-none-any.whl (19.4 MB)\n",
            "\u001b[K     |████████████████████████████████| 19.4 MB 786 kB/s \n",
            "\u001b[?25hRequirement already satisfied: lxml>=4.1.0 in /usr/local/lib/python3.7/dist-packages (from konlpy) (4.9.1)\n",
            "Requirement already satisfied: numpy>=1.6 in /usr/local/lib/python3.7/dist-packages (from konlpy) (1.21.6)\n",
            "Collecting JPype1>=0.7.0\n",
            "  Downloading JPype1-1.4.0-cp37-cp37m-manylinux_2_5_x86_64.manylinux1_x86_64.whl (453 kB)\n",
            "\u001b[K     |████████████████████████████████| 453 kB 61.3 MB/s \n",
            "\u001b[?25hRequirement already satisfied: typing-extensions in /usr/local/lib/python3.7/dist-packages (from JPype1>=0.7.0->konlpy) (4.1.1)\n",
            "Installing collected packages: JPype1, konlpy\n",
            "Successfully installed JPype1-1.4.0 konlpy-0.6.0\n"
          ]
        }
      ],
      "source": [
        "!pip install konlpy"
      ]
    },
    {
      "cell_type": "code",
      "source": [
        "from gensim.models import Word2Vec\n",
        "from konlpy.tag import Komoran\n",
        "import time"
      ],
      "metadata": {
        "id": "VASkFKef1d7j"
      },
      "execution_count": 2,
      "outputs": []
    },
    {
      "cell_type": "code",
      "source": [
        "# 네이버 영화 리뷰 데이터 읽어옴\n",
        "def read_review_data(filename):\n",
        "  with open(filename, 'r') as f:\n",
        "    data = [line.split('\\t') for line in f.read().splitlines()]\n",
        "    data = data[1:] # 헤더 제거\n",
        "  return data"
      ],
      "metadata": {
        "id": "6cIbPpxb1d3k"
      },
      "execution_count": 3,
      "outputs": []
    },
    {
      "cell_type": "code",
      "source": [
        "# 학습 시간 측정 시작\n",
        "start = time.time()"
      ],
      "metadata": {
        "id": "HOTDxW1L1yue"
      },
      "execution_count": 4,
      "outputs": []
    },
    {
      "cell_type": "code",
      "source": [
        "# 리뷰 파일 읽어오기\n",
        "print('1) 말뭉치 데이터 읽기 시작')\n",
        "review_data = read_review_data('ratings.txt')\n",
        "print(len(review_data)) # 리뷰 데이터 전체 개수\n",
        "print('1) 말뭉치 데이터 읽기 완료: ',time.time() - start)"
      ],
      "metadata": {
        "colab": {
          "base_uri": "https://localhost:8080/"
        },
        "id": "_n8U0e4i11pH",
        "outputId": "d99b5f61-9edc-49f1-cf73-fa846f1978ea"
      },
      "execution_count": 6,
      "outputs": [
        {
          "output_type": "stream",
          "name": "stdout",
          "text": [
            "1) 말뭉치 데이터 읽기 시작\n",
            "76302\n",
            "1) 말뭉치 데이터 읽기 완료:  14.04204773902893\n"
          ]
        }
      ]
    },
    {
      "cell_type": "code",
      "source": [
        "# 문장 단위로 명사만 추출해 학습 입력 데이터로 만듦\n",
        "print('2) 형태소에서 명사만 추출 시작')\n",
        "komoran = Komoran()\n",
        "docs = [komoran.nouns(sentence[1]) for sentence in review_data]\n",
        "print('2) 형태소에서 명사만 추출 완료: ', time.time() - start)"
      ],
      "metadata": {
        "colab": {
          "base_uri": "https://localhost:8080/"
        },
        "id": "x3oHKTFF2Jlw",
        "outputId": "efc08cc1-e98f-45bd-f8a6-94fb1109c618"
      },
      "execution_count": 8,
      "outputs": [
        {
          "output_type": "stream",
          "name": "stdout",
          "text": [
            "2) 형태소에서 명사만 추출 시작\n",
            "2) 형태소에서 명사만 추출 완료:  76.42251467704773\n"
          ]
        }
      ]
    },
    {
      "cell_type": "markdown",
      "source": [
        "**### Word2Vec 모델의 주요 하이퍼파라미터(Hyperparameter)**\n",
        "\n",
        "*   **sentecences**: Word2Vec 모델 학습에 필요한 문장 데이터. Word2Vec 모델의 입력값으로 사용\n",
        "*   **size** : 단어 임베딩 벡터의 차원(크기)\n",
        "*   **window** : 주변 단어 윈도우의 크기\n",
        "*   **hs**: 1 (모델 학습에 softmax 사용), 0 (negative 옵션값이 0이 아닐때 음수 샘플링으로 사용)\n",
        "*   **min_count** : 단어 최소 빈도 수 제한(설정된 min_count 빈도 수 이하의 단어들은 학습하지 않음)\n",
        "*   **sg**: 0 (CBOW 모델), 1 (skip-gram 모델)\n"
      ],
      "metadata": {
        "id": "ewP7CviY2njZ"
      }
    },
    {
      "cell_type": "code",
      "source": [
        "# Word2Vec 모델 학습\n",
        "print('3) Word2Vec 모델 학습 시작')\n",
        "model = Word2Vec(sentences=docs, size=200, window=4, hs=1, min_count=2, sg=1)\n",
        "print('3) Word2Vec 모델 학습 완료 : ', time.time() - start)"
      ],
      "metadata": {
        "colab": {
          "base_uri": "https://localhost:8080/"
        },
        "id": "LHrsG5qq2ZjP",
        "outputId": "34bfd805-7cb0-423c-b84d-b7324faa17e7"
      },
      "execution_count": 12,
      "outputs": [
        {
          "output_type": "stream",
          "name": "stdout",
          "text": [
            "3) Word2Vec 모델 학습 시작\n",
            "3) Word2Vec 모델 학습 완료 :  141.76306223869324\n"
          ]
        }
      ]
    },
    {
      "cell_type": "code",
      "source": [
        "# 모델 저장\n",
        "print( '4 ) 학습된 모델 저장 시작')\n",
        "model.save('nvmc.model')\n",
        "print('4) 학습된 모델 저장 완료 : ', time.time() - start)"
      ],
      "metadata": {
        "colab": {
          "base_uri": "https://localhost:8080/"
        },
        "id": "cy4JmBRa3Y8K",
        "outputId": "59da07bc-fe1c-4a8e-d469-cc7b592edb14"
      },
      "execution_count": 13,
      "outputs": [
        {
          "output_type": "stream",
          "name": "stdout",
          "text": [
            "4 ) 학습된 모델 저장 시작\n",
            "4) 학습된 모델 저장 완료 :  144.04411387443542\n"
          ]
        }
      ]
    },
    {
      "cell_type": "code",
      "source": [
        "# 학습된 말뭉치 수, 코퍼스 내 전체 단어 수\n",
        "print(\"corpus_count : \", model.corpus_count)\n",
        "print(\"corpus_total_words : \", model.corpus_total_words)"
      ],
      "metadata": {
        "colab": {
          "base_uri": "https://localhost:8080/"
        },
        "id": "RIRCM2kV3hAn",
        "outputId": "c0f7c61d-1495-431f-e01a-a0d991618905"
      },
      "execution_count": 14,
      "outputs": [
        {
          "output_type": "stream",
          "name": "stdout",
          "text": [
            "corpus_count :  76302\n",
            "corpus_total_words :  394675\n"
          ]
        }
      ]
    },
    {
      "cell_type": "markdown",
      "source": [
        "# Word2Vec 모델 활용"
      ],
      "metadata": {
        "id": "vaUZEMHX43Li"
      }
    },
    {
      "cell_type": "code",
      "source": [
        "from gensim.models import Word2Vec"
      ],
      "metadata": {
        "id": "nEPQw9Oz4_Nm"
      },
      "execution_count": 15,
      "outputs": []
    },
    {
      "cell_type": "code",
      "source": [
        "# 모델 로딩\n",
        "model = Word2Vec.load('nvmc.model')\n",
        "print(\"corpus_total_words : \", model.corpus_total_words)"
      ],
      "metadata": {
        "colab": {
          "base_uri": "https://localhost:8080/"
        },
        "id": "pWpAy6Yo5CeO",
        "outputId": "075d9a13-14d2-4951-f4f0-dd83e6a24d09"
      },
      "execution_count": 16,
      "outputs": [
        {
          "output_type": "stream",
          "name": "stdout",
          "text": [
            "corpus_total_words :  394675\n"
          ]
        }
      ]
    },
    {
      "cell_type": "code",
      "source": [
        "# '니노'라는 단어로 생성한 단어 임베딩 벡터\n",
        "print('니노 : ', model.wv['니노'])"
      ],
      "metadata": {
        "colab": {
          "base_uri": "https://localhost:8080/"
        },
        "id": "MGh-zy7c5L8c",
        "outputId": "4f9b31fc-732f-4ae1-eaad-039e674f001e"
      },
      "execution_count": 17,
      "outputs": [
        {
          "output_type": "stream",
          "name": "stdout",
          "text": [
            "니노 :  [-0.00149873 -0.04908129  0.00935159  0.02165198  0.01314906 -0.07479876\n",
            " -0.05846514 -0.03072808 -0.05268116  0.04051319  0.04908348 -0.00075928\n",
            "  0.01513309 -0.00853626 -0.00911729  0.01587292 -0.01241465 -0.04944022\n",
            " -0.00692094 -0.06702016  0.05484813 -0.00727925 -0.0158548  -0.01658519\n",
            " -0.00556976  0.08253369  0.03857873  0.0555262   0.02279759  0.02991422\n",
            " -0.01262016  0.02972154  0.05672603 -0.03761302 -0.01326295  0.04687921\n",
            "  0.03646654  0.00548177  0.10230421 -0.01135169  0.05767523  0.09234758\n",
            "  0.0076671   0.08284823  0.06868663 -0.01779663  0.03360683  0.00489422\n",
            " -0.0822499   0.00602328 -0.06919399 -0.00290626 -0.00863019 -0.01238457\n",
            "  0.01173775  0.04384543 -0.02025903 -0.02905651  0.05718726  0.02144219\n",
            "  0.03865674  0.04217994  0.0194597  -0.01745635  0.01887674 -0.006362\n",
            " -0.03527401 -0.02155095  0.02603192 -0.00165662 -0.02844302  0.00709218\n",
            " -0.07819697  0.00544401 -0.03030618 -0.00418158  0.01570269  0.03445189\n",
            " -0.03725921 -0.02273048 -0.0274572  -0.00267302  0.00392238  0.003259\n",
            " -0.07284984 -0.01625062 -0.02696351  0.02676975  0.07065852 -0.00143028\n",
            "  0.00390404  0.0347959  -0.01278763  0.04477934  0.01641636  0.05119709\n",
            " -0.06179504  0.01918406 -0.0072463   0.00353554 -0.01024402 -0.04416284\n",
            "  0.0028005  -0.04492372 -0.05751833  0.05736518  0.00131244 -0.09202816\n",
            " -0.06664053 -0.0425534   0.0438806   0.08628337 -0.01987273  0.04400625\n",
            " -0.06913654 -0.02016893 -0.04798163 -0.06927349 -0.002134    0.06152446\n",
            "  0.05516557 -0.08772242  0.00013079 -0.03190171 -0.02653939 -0.00256082\n",
            " -0.0325052   0.00357701 -0.03114165 -0.05140853  0.12228636 -0.02854857\n",
            "  0.02157813  0.06930682 -0.0169846   0.02271223 -0.00241471  0.10523928\n",
            "  0.01827333  0.03857043 -0.04412645  0.05203993  0.04641311 -0.07680453\n",
            " -0.01280669  0.07623042  0.06940003  0.03241475  0.03194275 -0.0362158\n",
            " -0.12112414 -0.00482019  0.09526636 -0.01550168 -0.02250629  0.09794285\n",
            " -0.08139762 -0.00346547 -0.05678204 -0.08730652 -0.08569934 -0.00458762\n",
            " -0.03357669  0.01200578  0.04765702 -0.05832062 -0.02049545 -0.05873164\n",
            " -0.01974808 -0.06747346  0.01675807  0.1005455  -0.00572659  0.08784021\n",
            " -0.02294703  0.03369402  0.02998122  0.0484004  -0.02391031 -0.0041542\n",
            "  0.09579733 -0.00880215 -0.00130941 -0.01068441  0.07208958  0.02832736\n",
            " -0.00959978 -0.03285789  0.04026778  0.01913954  0.09763048  0.00779476\n",
            "  0.00330446  0.08740257  0.01171502 -0.02519527  0.04256989 -0.0138856\n",
            " -0.01226793 -0.03343638]\n"
          ]
        }
      ]
    },
    {
      "cell_type": "code",
      "source": [
        "# '아라시'라는 단어로 생성한 단어 임베딩 벡터\n",
        "print('아라시 : ', model.wv['아라시'])"
      ],
      "metadata": {
        "colab": {
          "base_uri": "https://localhost:8080/"
        },
        "id": "rgGFiyHL5UQO",
        "outputId": "aa532d7e-8501-4a29-aa52-9b981fc5f6e6"
      },
      "execution_count": 18,
      "outputs": [
        {
          "output_type": "stream",
          "name": "stdout",
          "text": [
            "아라시 :  [-5.5138603e-02 -2.9063331e-02 -1.9433297e-02 -7.9363398e-03\n",
            "  7.5453669e-02 -4.7374260e-02 -6.1470244e-02 -5.4266453e-03\n",
            " -3.6374446e-02  5.0549731e-03  8.2089528e-02  1.9794611e-02\n",
            "  1.3277784e-02 -1.4622936e-02  1.8648284e-02  3.3636518e-02\n",
            "  1.9068308e-02 -2.5589399e-02  4.4785254e-02 -5.8911528e-02\n",
            "  5.0670333e-02 -4.5091420e-02  3.3457885e-03 -2.8578471e-02\n",
            "  2.2017728e-03  5.8973953e-02  1.9732762e-02  6.7933932e-02\n",
            " -5.1985928e-03  1.4101630e-02  9.5692789e-04 -1.1693462e-02\n",
            "  4.6851486e-03 -7.5139478e-03 -1.4172492e-02  5.9395257e-02\n",
            "  5.5360861e-02 -2.0993019e-02  1.6675156e-02 -1.3726545e-02\n",
            "  7.5392038e-02  2.1643789e-02  5.6337815e-02  3.5573125e-02\n",
            "  3.0113185e-02 -4.3458506e-03  2.0941390e-02  2.4790481e-02\n",
            " -9.6672349e-02 -1.1183744e-02 -6.0834784e-02 -2.6052225e-02\n",
            "  8.0831855e-04 -4.8809582e-03 -1.3431071e-02  2.0959087e-02\n",
            " -5.5240747e-02 -2.6277393e-02  7.3155038e-02 -2.9809469e-02\n",
            "  5.6338042e-02  5.2032880e-02  2.5175380e-02 -2.8589644e-02\n",
            " -2.4779886e-02 -3.0258249e-03 -5.3094026e-02 -9.2302850e-03\n",
            " -1.3182186e-02  4.2090505e-02 -4.7717795e-02 -1.4145481e-02\n",
            " -2.5670020e-02 -2.4328575e-02 -2.5831975e-02 -2.0450361e-02\n",
            " -9.9634975e-03 -3.5057727e-02 -2.8389879e-02  1.7721774e-03\n",
            "  9.2816856e-03  6.3777552e-05  1.4307959e-02 -5.7016774e-03\n",
            " -5.7758499e-02  3.9090979e-04 -1.3158672e-03  3.8885221e-02\n",
            "  6.6260435e-02 -1.0130758e-03 -9.2951376e-03 -1.6814739e-02\n",
            " -2.8031560e-02  3.5584725e-02  7.5200493e-03  1.0431721e-02\n",
            " -2.8016767e-04  3.1140035e-02  2.7738002e-03 -1.2095727e-02\n",
            " -1.0636058e-02 -2.6042389e-02 -6.7797252e-03 -7.6534435e-02\n",
            " -8.3995633e-02  5.0378840e-02  1.0209330e-02 -7.6672830e-02\n",
            " -4.1186479e-03  1.2910396e-02  1.3921814e-02  7.6214202e-02\n",
            " -8.4366510e-03  4.1692432e-02 -4.2666718e-02  1.5213343e-02\n",
            " -8.5398249e-02 -4.1245360e-02  1.5771272e-02  5.2496523e-02\n",
            "  6.8593875e-02 -4.4601221e-02  1.7381541e-02 -6.8262611e-03\n",
            " -7.4450329e-02 -2.1452064e-02 -4.2591531e-02  8.8027185e-03\n",
            " -4.9019866e-02 -4.8439354e-03  8.9728110e-02 -4.6910133e-02\n",
            "  4.0554091e-02  6.9479659e-02  4.0529277e-03  2.9616896e-02\n",
            " -1.4208955e-02  3.8939502e-02  2.1450736e-02  4.4475883e-02\n",
            "  7.5396486e-03  1.6600898e-02 -2.6619032e-02 -3.3151630e-02\n",
            "  3.9956987e-02  3.9056156e-02 -7.4423137e-03  3.6241826e-02\n",
            "  4.3377317e-02 -7.9560485e-03 -3.1898253e-02 -4.7359299e-02\n",
            "  3.3816375e-02 -2.3070836e-02 -1.7323004e-02  7.2203398e-02\n",
            " -6.4206034e-02 -4.2297971e-02 -1.1017616e-02  2.7201143e-03\n",
            " -3.5217062e-02 -2.7898788e-02 -4.0578533e-02 -2.9147912e-02\n",
            "  3.0918075e-02 -1.8388301e-02  9.4778733e-03 -4.1631270e-02\n",
            "  6.0052820e-03 -2.5466867e-03  1.3267939e-02  3.7949387e-02\n",
            " -4.7278520e-02  2.8282091e-02  1.1425249e-02 -1.3393796e-02\n",
            "  7.4731447e-02  4.0042769e-02 -7.3760361e-03  5.0421655e-02\n",
            "  4.5267299e-02  4.3932695e-02  3.3009592e-02  2.3113815e-02\n",
            "  4.2003993e-02 -7.9831313e-03 -1.0072273e-02 -3.7515912e-02\n",
            "  5.9770014e-02 -1.7679578e-02  1.9832382e-02  1.5437252e-02\n",
            " -7.3442007e-03  4.9788181e-02 -4.8544249e-03 -2.6560858e-02\n",
            "  3.5223480e-02 -1.1495238e-02 -4.5043014e-02 -3.8942967e-02]\n"
          ]
        }
      ]
    },
    {
      "cell_type": "code",
      "source": [
        "# 단어 유사도 계산\n",
        "print(\"아라시 = 니노\\t\", model.wv.similarity(w1='아라시', w2='니노'))\n",
        "print(\"아라시 = 소녀시대\\t\", model.wv.similarity(w1='아라시', w2='소녀시대'))\n",
        "print(\"일본 = 아라시\\t\", model.wv.similarity(w1='일본', w2='아라시'))\n",
        "print(\"일본 = 니노\\t\", model.wv.similarity(w1='일본', w2='니노'))"
      ],
      "metadata": {
        "colab": {
          "base_uri": "https://localhost:8080/"
        },
        "id": "m13wzrBz5TQo",
        "outputId": "edd2f35e-a97c-4fae-9cec-4cb3f4051fac"
      },
      "execution_count": 25,
      "outputs": [
        {
          "output_type": "stream",
          "name": "stdout",
          "text": [
            "아라시 = 니노\t 0.7062562\n",
            "아라시 = 소녀시대\t 0.37712428\n",
            "일본 = 아라시\t 0.36570537\n",
            "일본 = 니노\t 0.5565038\n"
          ]
        }
      ]
    },
    {
      "cell_type": "code",
      "source": [
        "# 가장 유사한 단어 추출\n",
        "print(model.wv.most_similar(\"아라시\", topn=5))\n",
        "print(model.wv.most_similar(\"니노\", topn=5))\n",
        "print(model.wv.most_similar(\"일본\", topn=5))\n",
        "print(model.wv.most_similar(\"오노\", topn=5))"
      ],
      "metadata": {
        "colab": {
          "base_uri": "https://localhost:8080/"
        },
        "id": "OzB1keCQ6H9-",
        "outputId": "32bc726b-91af-4e06-8a91-2e21491e219a"
      },
      "execution_count": 36,
      "outputs": [
        {
          "output_type": "stream",
          "name": "stdout",
          "text": [
            "[('김광석', 0.8839106559753418), ('라유', 0.8655327558517456), ('재주', 0.8648266196250916), ('파타고니아', 0.8593234419822693), ('매도', 0.8577490448951721)]\n",
            "[('출간', 0.8835716247558594), ('도사', 0.8755406737327576), ('개인주의', 0.8740397691726685), ('인신매매', 0.8710757493972778), ('침몰', 0.8685587644577026)]\n",
            "[('프랑스', 0.7398494482040405), ('판', 0.6987419128417969), ('영국', 0.6857080459594727), ('실사', 0.6768336296081543), ('일본인', 0.6733152866363525)]\n",
            "[('낮술', 0.8794459104537964), ('탄광', 0.8629952669143677), ('주유', 0.8608558177947998), ('리포트', 0.8588311672210693), ('날개', 0.858605146408081)]\n"
          ]
        }
      ]
    }
  ]
}